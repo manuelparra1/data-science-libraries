{
 "cells": [
  {
   "cell_type": "code",
   "execution_count": 68,
   "id": "7ffcfe53",
   "metadata": {},
   "outputs": [],
   "source": [
    "import numpy as np\n",
    "\n",
    "a = np.array([4, 10, 12, 23, -2, -1, 0, 0, 0, -6, 3, -7])"
   ]
  },
  {
   "cell_type": "code",
   "execution_count": 52,
   "id": "7e1b33dc",
   "metadata": {},
   "outputs": [
    {
     "name": "stdout",
     "output_type": "stream",
     "text": [
      "4\n"
     ]
    }
   ],
   "source": [
    "#    1. How many negative numbers are there?\n",
    "\n",
    "print(np.count_nonzero(a < 0))\n",
    "#print(f\"{}\")"
   ]
  },
  {
   "cell_type": "code",
   "execution_count": 105,
   "id": "73b3681b",
   "metadata": {},
   "outputs": [
    {
     "name": "stdout",
     "output_type": "stream",
     "text": [
      "5\n"
     ]
    }
   ],
   "source": [
    "#    2. How many positive numbers are there?\n",
    "\n",
    "print(np.sum(a >0))\n"
   ]
  },
  {
   "cell_type": "code",
   "execution_count": 112,
   "id": "ff04d76c",
   "metadata": {},
   "outputs": [
    {
     "name": "stdout",
     "output_type": "stream",
     "text": [
      "3\n"
     ]
    }
   ],
   "source": [
    "#    3. How many even positive numbers are there?\n",
    "\n",
    "print(np.sum((a > 0) & (a%2 == 0)))"
   ]
  },
  {
   "cell_type": "code",
   "execution_count": 75,
   "id": "c3b8181e",
   "metadata": {},
   "outputs": [
    {
     "name": "stdout",
     "output_type": "stream",
     "text": [
      "2\n"
     ]
    }
   ],
   "source": [
    "#    4. If you were to add 3 to each data point, \n",
    "#       how many positive numbers would there be?\n",
    "\n",
    "b=a+3\n",
    "\n",
    "print(np.sum(b<0))"
   ]
  },
  {
   "cell_type": "code",
   "execution_count": 83,
   "id": "f55785eb",
   "metadata": {},
   "outputs": [
    {
     "name": "stdout",
     "output_type": "stream",
     "text": [
      "Original List: \t [ 4 10 12 23 -2 -1  0  0  0 -6  3 -7]\n",
      "Each squared: \t [ 16 100 144 529   4   1   0   0   0  36   9  49]\n"
     ]
    }
   ],
   "source": [
    "#    5. If you squared each number, what would \n",
    "#       the new mean and standard deviation be?\n",
    "squared=a**2\n",
    "\n",
    "print(f\"Original List: \\t {a}\")\n",
    "print(f\"Each squared: \\t {squared}\")\n",
    "\n"
   ]
  },
  {
   "cell_type": "code",
   "execution_count": 99,
   "id": "0a65fbb4",
   "metadata": {},
   "outputs": [
    {
     "name": "stdout",
     "output_type": "stream",
     "text": [
      "Centered: \t [  1   7   9  20  -5  -4  -3  -3  -3  -9   0 -10]\n"
     ]
    }
   ],
   "source": [
    "#    6. A common statistical operation on a dataset is centering.\n",
    "#       This means to adjust the data such that the mean of the\n",
    "#       data is 0. This is done by subtracting the mean from each\n",
    "#       data point. Center the data set. See this link for more on\n",
    "#       centering.\n",
    "\n",
    "import statistics as st\n",
    "\n",
    "list_average = st.mean(a)\n",
    "\n",
    "centered = a-list_average\n",
    "print(f\"Centered: \\t {centered}\")"
   ]
  },
  {
   "cell_type": "code",
   "execution_count": 104,
   "id": "a03a9921",
   "metadata": {},
   "outputs": [
    {
     "name": "stdout",
     "output_type": "stream",
     "text": [
      "Z-Scores: \t [ 3.64143142  9.64143142 11.64143142 22.64143142 -2.35856858 -1.35856858\n",
      " -0.35856858 -0.35856858 -0.35856858 -6.35856858  2.64143142 -7.35856858]\n"
     ]
    }
   ],
   "source": [
    "#    7. Calculate the z-score for each data point. Recall that the\n",
    "#       z-score is given by:\n",
    "\n",
    "#       z = (x-avg)/std\n",
    "\n",
    "z_scores = a-(st.mean(a))/st.stdev(a)\n",
    "print(f\"Z-Scores: \\t {z_scores}\")"
   ]
  },
  {
   "cell_type": "code",
   "execution_count": null,
   "id": "2dd76792",
   "metadata": {},
   "outputs": [],
   "source": [
    "#    BONUS. Awesome Bonus For much more practice with numpy, Go to https://github.com/rougier/numpy-100 \n",
    "#           and clone the repo down to your laptop. To clone a repository: - Copy the SSH address of\n",
    "#           the repository - cd ~/codeup-data-science - Then type git clone git@github.com:rougier/numpy-100.git - \n",
    "#           Now do cd numpy-100 on your terminal. - Type git remote remove origin, so you won't accidentally \n",
    "#           try to push your work to Rougier's repo.\n",
    "\n",
    "#           Congratulations! You have cloned Rougier's 100 numpy exercises to your computer. Now you need to \n",
    "#           make a new, blank, repository on GitHub.\n",
    "\n",
    "#           Go to https://github.com/new to make a new repo. Name it numpy-100.\n",
    "       \n",
    "#           DO NOT check any check boxes. We need a blank, empty repo.\n",
    "      \n",
    "#           Finally, follow the directions to \"push an existing repository from \n",
    "#           the command line\" so that you can push up your changes to your own account.\n",
    "#           Now do work, add it, commit it, and push it!"
   ]
  }
 ],
 "metadata": {
  "kernelspec": {
   "display_name": "Python 3 (ipykernel)",
   "language": "python",
   "name": "python3"
  },
  "language_info": {
   "codemirror_mode": {
    "name": "ipython",
    "version": 3
   },
   "file_extension": ".py",
   "mimetype": "text/x-python",
   "name": "python",
   "nbconvert_exporter": "python",
   "pygments_lexer": "ipython3",
   "version": "3.9.13"
  }
 },
 "nbformat": 4,
 "nbformat_minor": 5
}
