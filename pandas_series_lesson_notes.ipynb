{
 "cells": [
  {
   "cell_type": "code",
   "execution_count": null,
   "id": "982381c6",
   "metadata": {},
   "outputs": [],
   "source": [
    "Pandas Lesson - Notes\n",
    "\n",
    "my_list = [1,3,5]\n",
    "# [1,3,5]\n",
    "\n",
    "type(list)\n",
    "# list\n",
    "\n",
    "my_list[1]\n",
    "# 3\n",
    "\n",
    "pd.Series(my_list)\n",
    "\n",
    "type(my_series)\n",
    "# pandas.core.series.Series\n",
    "\n",
    "my_series\n",
    "# 0\t1\n",
    "# 1\t3\n",
    "# 2\t5\n",
    "# type:\tint64\n"
   ]
  },
  {
   "cell_type": "code",
   "execution_count": 2,
   "id": "10144618",
   "metadata": {},
   "outputs": [],
   "source": [
    "import numpy as np\n",
    "import pandas as pd"
   ]
  },
  {
   "cell_type": "code",
   "execution_count": 4,
   "id": "f219dda4",
   "metadata": {},
   "outputs": [],
   "source": [
    "my_array = np.array([8.0,13.0,21.0])\n",
    "my_series = pd.Series(my_array)\n"
   ]
  }
 ],
 "metadata": {
  "kernelspec": {
   "display_name": "Python 3 (ipykernel)",
   "language": "python",
   "name": "python3"
  },
  "language_info": {
   "codemirror_mode": {
    "name": "ipython",
    "version": 3
   },
   "file_extension": ".py",
   "mimetype": "text/x-python",
   "name": "python",
   "nbconvert_exporter": "python",
   "pygments_lexer": "ipython3",
   "version": "3.9.13"
  }
 },
 "nbformat": 4,
 "nbformat_minor": 5
}
