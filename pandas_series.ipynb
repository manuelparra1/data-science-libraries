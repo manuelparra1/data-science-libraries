{
 "cells": [
  {
   "cell_type": "markdown",
   "id": "aeffbe3b",
   "metadata": {},
   "source": [
    "# Pandas Series"
   ]
  },
  {
   "cell_type": "code",
   "execution_count": 290,
   "id": "1fe4aa3c",
   "metadata": {},
   "outputs": [],
   "source": [
    "import numpy as np\n",
    "import pandas as pd"
   ]
  },
  {
   "cell_type": "code",
   "execution_count": 291,
   "id": "b1375d26",
   "metadata": {},
   "outputs": [],
   "source": [
    "fruits = pd.Series([\"kiwi\", \"mango\", \"strawberry\", \"pineapple\", \"gala apple\", \"honeycrisp apple\", \"tomato\", \"watermelon\", \"honeydew\", \"kiwi\", \"kiwi\", \"kiwi\", \"mango\", \"blueberry\", \"blackberry\", \"gooseberry\", \"papaya\"])"
   ]
  },
  {
   "cell_type": "markdown",
   "id": "bba058a1",
   "metadata": {},
   "source": [
    "## 1. Exercises Part I"
   ]
  },
  {
   "cell_type": "code",
   "execution_count": 312,
   "id": "c06d9c17",
   "metadata": {},
   "outputs": [
    {
     "data": {
      "text/plain": [
       "17"
      ]
     },
     "execution_count": 312,
     "metadata": {},
     "output_type": "execute_result"
    }
   ],
   "source": [
    "# Determine the number of elements in fruits.\n",
    "#fruits.size\n",
    "len(fruits)\n",
    "#fruits.count()\n"
   ]
  },
  {
   "cell_type": "code",
   "execution_count": 303,
   "id": "71e460ca",
   "metadata": {},
   "outputs": [
    {
     "data": {
      "text/plain": [
       "[0, 1, 2, 3, 4, 5, 6, 7, 8, 9, 10, 11, 12, 13, 14, 15, 16]"
      ]
     },
     "execution_count": 303,
     "metadata": {},
     "output_type": "execute_result"
    }
   ],
   "source": [
    "# Output only the index from fruits.\n",
    "#fruits.index\n",
    "list(fruits.index)"
   ]
  },
  {
   "cell_type": "code",
   "execution_count": 306,
   "id": "1e423858",
   "metadata": {},
   "outputs": [
    {
     "data": {
      "text/plain": [
       "['kiwi',\n",
       " 'mango',\n",
       " 'strawberry',\n",
       " 'pineapple',\n",
       " 'gala apple',\n",
       " 'honeycrisp apple',\n",
       " 'tomato',\n",
       " 'watermelon',\n",
       " 'honeydew',\n",
       " 'kiwi',\n",
       " 'kiwi',\n",
       " 'kiwi',\n",
       " 'mango',\n",
       " 'blueberry',\n",
       " 'blackberry',\n",
       " 'gooseberry',\n",
       " 'papaya']"
      ]
     },
     "execution_count": 306,
     "metadata": {},
     "output_type": "execute_result"
    }
   ],
   "source": [
    "# Output only the values from fruits.\n",
    "#list_of_series = fruits.values\n",
    "#print(list_of_series)\n",
    "#print(fruits.values)\n",
    "list(fruits.values)"
   ]
  },
  {
   "cell_type": "code",
   "execution_count": 317,
   "id": "7357454f",
   "metadata": {},
   "outputs": [
    {
     "data": {
      "text/plain": [
       "dtype('O')"
      ]
     },
     "execution_count": 317,
     "metadata": {},
     "output_type": "execute_result"
    }
   ],
   "source": [
    "# Confirm the data type of the values in fruits.\n",
    "\n",
    "#fruits.name = 'Fruits'\n",
    "#fruits.columns = 'names'\n",
    "#Fruits = fruits.name\n",
    "#print(f\"name {fruits.columns}\")\n",
    "#print(Fruits)\n",
    "\n",
    "fruits.dtype"
   ]
  },
  {
   "cell_type": "code",
   "execution_count": 321,
   "id": "7dff1175",
   "metadata": {},
   "outputs": [
    {
     "data": {
      "text/plain": [
       "3    pineapple\n",
       "9         kiwi\n",
       "dtype: object"
      ]
     },
     "execution_count": 321,
     "metadata": {},
     "output_type": "execute_result"
    }
   ],
   "source": [
    "# Output only the first five values from fruits. Output the last three values. Output two random values from fruits.\n",
    "#fruits.head()\n",
    "#fruits.tail(3)\n",
    "fruits.sample(2)"
   ]
  },
  {
   "cell_type": "code",
   "execution_count": 322,
   "id": "5ebd0fc7",
   "metadata": {},
   "outputs": [
    {
     "data": {
      "text/plain": [
       "count       17\n",
       "unique      13\n",
       "top       kiwi\n",
       "freq         4\n",
       "dtype: object"
      ]
     },
     "execution_count": 322,
     "metadata": {},
     "output_type": "execute_result"
    }
   ],
   "source": [
    "# Run the .describe() on fruits to see what information it returns when called on a Series with string values.\n",
    "fruits.describe()"
   ]
  },
  {
   "cell_type": "code",
   "execution_count": 324,
   "id": "5eaee0b6",
   "metadata": {},
   "outputs": [
    {
     "data": {
      "text/plain": [
       "13"
      ]
     },
     "execution_count": 324,
     "metadata": {},
     "output_type": "execute_result"
    }
   ],
   "source": [
    "# Run the code necessary to produce only the unique string values from fruits.\n",
    "fruits.unique()\n",
    "len(fruits.unique)"
   ]
  },
  {
   "cell_type": "code",
   "execution_count": 89,
   "id": "df47eef4",
   "metadata": {},
   "outputs": [
    {
     "data": {
      "text/plain": [
       "array(['kiwi', 'mango', 'strawberry', 'pineapple', 'gala apple',\n",
       "       'honeycrisp apple', 'tomato', 'watermelon', 'honeydew',\n",
       "       'blueberry', 'blackberry', 'gooseberry', 'papaya'], dtype=object)"
      ]
     },
     "execution_count": 89,
     "metadata": {},
     "output_type": "execute_result"
    }
   ],
   "source": [
    "# Determine how many times each unique string value occurs in fruits.\n",
    "fruits.value_counts()\n",
    "list(fruits.value_counts().index)\n",
    "fruits.unique()"
   ]
  },
  {
   "cell_type": "code",
   "execution_count": 327,
   "id": "093fe646",
   "metadata": {},
   "outputs": [
    {
     "ename": "AttributeError",
     "evalue": "'Series' object has no attribute 'value_count'",
     "output_type": "error",
     "traceback": [
      "\u001b[0;31m---------------------------------------------------------------------------\u001b[0m",
      "\u001b[0;31mAttributeError\u001b[0m                            Traceback (most recent call last)",
      "Input \u001b[0;32mIn [327]\u001b[0m, in \u001b[0;36m<cell line: 4>\u001b[0;34m()\u001b[0m\n\u001b[1;32m      1\u001b[0m \u001b[38;5;66;03m# Determine the string value that occurs most frequently in fruits.\u001b[39;00m\n\u001b[1;32m      2\u001b[0m \u001b[38;5;66;03m#fruits.value_counts().idxmax()\u001b[39;00m\n\u001b[1;32m      3\u001b[0m \u001b[38;5;66;03m#fruits.mode()\u001b[39;00m\n\u001b[0;32m----> 4\u001b[0m \u001b[43mfruits\u001b[49m\u001b[38;5;241;43m.\u001b[39;49m\u001b[43mvalue_count\u001b[49m()\u001b[38;5;241m.\u001b[39mnlargest(\u001b[38;5;241m1\u001b[39m)\n",
      "File \u001b[0;32m/opt/homebrew/anaconda3/lib/python3.9/site-packages/pandas/core/generic.py:5575\u001b[0m, in \u001b[0;36mNDFrame.__getattr__\u001b[0;34m(self, name)\u001b[0m\n\u001b[1;32m   5568\u001b[0m \u001b[38;5;28;01mif\u001b[39;00m (\n\u001b[1;32m   5569\u001b[0m     name \u001b[38;5;129;01mnot\u001b[39;00m \u001b[38;5;129;01min\u001b[39;00m \u001b[38;5;28mself\u001b[39m\u001b[38;5;241m.\u001b[39m_internal_names_set\n\u001b[1;32m   5570\u001b[0m     \u001b[38;5;129;01mand\u001b[39;00m name \u001b[38;5;129;01mnot\u001b[39;00m \u001b[38;5;129;01min\u001b[39;00m \u001b[38;5;28mself\u001b[39m\u001b[38;5;241m.\u001b[39m_metadata\n\u001b[1;32m   5571\u001b[0m     \u001b[38;5;129;01mand\u001b[39;00m name \u001b[38;5;129;01mnot\u001b[39;00m \u001b[38;5;129;01min\u001b[39;00m \u001b[38;5;28mself\u001b[39m\u001b[38;5;241m.\u001b[39m_accessors\n\u001b[1;32m   5572\u001b[0m     \u001b[38;5;129;01mand\u001b[39;00m \u001b[38;5;28mself\u001b[39m\u001b[38;5;241m.\u001b[39m_info_axis\u001b[38;5;241m.\u001b[39m_can_hold_identifiers_and_holds_name(name)\n\u001b[1;32m   5573\u001b[0m ):\n\u001b[1;32m   5574\u001b[0m     \u001b[38;5;28;01mreturn\u001b[39;00m \u001b[38;5;28mself\u001b[39m[name]\n\u001b[0;32m-> 5575\u001b[0m \u001b[38;5;28;01mreturn\u001b[39;00m \u001b[38;5;28;43mobject\u001b[39;49m\u001b[38;5;241;43m.\u001b[39;49m\u001b[38;5;21;43m__getattribute__\u001b[39;49m\u001b[43m(\u001b[49m\u001b[38;5;28;43mself\u001b[39;49m\u001b[43m,\u001b[49m\u001b[43m \u001b[49m\u001b[43mname\u001b[49m\u001b[43m)\u001b[49m\n",
      "\u001b[0;31mAttributeError\u001b[0m: 'Series' object has no attribute 'value_count'"
     ]
    }
   ],
   "source": [
    "# Determine the string value that occurs most frequently in fruits.\n",
    "fruits.value_counts().idxmax()\n",
    "#fruits.mode()\n",
    "#fruits.value_count().nlargest(1)\n",
    "#fruits.value_counts().head(1)\n",
    "#fruits.describe().loc['top']"
   ]
  },
  {
   "cell_type": "code",
   "execution_count": 97,
   "id": "52906b06",
   "metadata": {},
   "outputs": [
    {
     "data": {
      "text/plain": [
       "strawberry          1\n",
       "pineapple           1\n",
       "gala apple          1\n",
       "honeycrisp apple    1\n",
       "tomato              1\n",
       "watermelon          1\n",
       "honeydew            1\n",
       "blueberry           1\n",
       "blackberry          1\n",
       "gooseberry          1\n",
       "papaya              1\n",
       "Name: Fruits, dtype: int64"
      ]
     },
     "execution_count": 97,
     "metadata": {},
     "output_type": "execute_result"
    }
   ],
   "source": [
    "# Determine the string value that occurs least frequently in fruits.\n",
    "#fruits.value_counts().idxmin()\n",
    "#fruits.value_counts().nsmallest(n=1, keep='all')\n",
    "fruits.value_counts()[fruits.value_counts()==1]"
   ]
  },
  {
   "cell_type": "markdown",
   "id": "4dcae309",
   "metadata": {},
   "source": [
    "## 2. Exercises Part II\n",
    "Explore more attributes and methods while you continue to work with the fruits Series."
   ]
  },
  {
   "cell_type": "code",
   "execution_count": 328,
   "id": "4de185e9",
   "metadata": {},
   "outputs": [
    {
     "data": {
      "text/plain": [
       "0                 KIWI\n",
       "1                MANGO\n",
       "2           STRAWBERRY\n",
       "3            PINEAPPLE\n",
       "4           GALA APPLE\n",
       "5     HONEYCRISP APPLE\n",
       "6               TOMATO\n",
       "7           WATERMELON\n",
       "8             HONEYDEW\n",
       "9                 KIWI\n",
       "10                KIWI\n",
       "11                KIWI\n",
       "12               MANGO\n",
       "13           BLUEBERRY\n",
       "14          BLACKBERRY\n",
       "15          GOOSEBERRY\n",
       "16              PAPAYA\n",
       "dtype: object"
      ]
     },
     "execution_count": 328,
     "metadata": {},
     "output_type": "execute_result"
    }
   ],
   "source": [
    "# 1. Capitalize all the string values in fruits\n",
    "\n",
    "fruits.str.upper()"
   ]
  },
  {
   "cell_type": "code",
   "execution_count": 377,
   "id": "a58d22a2",
   "metadata": {},
   "outputs": [
    {
     "data": {
      "text/plain": [
       "0     0\n",
       "1     1\n",
       "2     1\n",
       "3     1\n",
       "4     3\n",
       "5     1\n",
       "6     1\n",
       "7     1\n",
       "8     0\n",
       "9     0\n",
       "10    0\n",
       "11    0\n",
       "12    1\n",
       "13    0\n",
       "14    1\n",
       "15    0\n",
       "16    3\n",
       "dtype: int64"
      ]
     },
     "execution_count": 377,
     "metadata": {},
     "output_type": "execute_result"
    }
   ],
   "source": [
    "# 2. Count the letter \"a\" in all the string values (use string vectorization).\n",
    "\n",
    "#index = fruits.str.count('a')\n",
    "#print(fruits[index])\n",
    "fruits.str.count('a')\n"
   ]
  },
  {
   "cell_type": "code",
   "execution_count": 383,
   "id": "3af43be1",
   "metadata": {},
   "outputs": [
    {
     "data": {
      "text/plain": [
       "2          strawberry\n",
       "2          strawberry\n",
       "2          strawberry\n",
       "4          gala apple\n",
       "4          gala apple\n",
       "5    honeycrisp apple\n",
       "3           pineapple\n",
       "4          gala apple\n",
       "3           pineapple\n",
       "2          strawberry\n",
       "2          strawberry\n",
       "2          strawberry\n",
       "2          strawberry\n",
       "3           pineapple\n",
       "2          strawberry\n",
       "4          gala apple\n",
       "3           pineapple\n",
       "dtype: object"
      ]
     },
     "execution_count": 383,
     "metadata": {},
     "output_type": "execute_result"
    }
   ],
   "source": [
    "# 3. Output the number of vowels in each and every string value.\n",
    "\n",
    "#vowels = 'aeiou'\n",
    "#fruits[fruits.str.contains(pat = vowels)]\n",
    "\n",
    "#list_index=list(fruits.str.count(r'[aeiou]').index)\n",
    "#for f in list_index:\n",
    "#    print(fruits.iloc[f])\n",
    "    \n",
    "\n",
    "#fruits[fruits.str.isin(vowels)]\n",
    "#fruits.str.isin(vowels)\n",
    "\n",
    "#fruits[fruits.isin(vowels)]\n",
    "\n",
    "#fruits.str.count()\n",
    "\n",
    "#fruits.index = vowels\n",
    "#fruits.str.contains(vowels)\n",
    "\n",
    "#test = fruits.str.contains(vowels)\n",
    "#print(test)\n",
    "\n",
    "#fruits.index(vowels)\n",
    "\n",
    "#boolean mask\n",
    "\n",
    "#  M A I N    A N S W E R\n",
    "fruits[fruits.str.count(r'[aeiou]')]\n",
    "\n",
    "fruit_vowels = fruits.str.count('[aeiou]')\n",
    "vowels_i.index = list(fruit_series)\n",
    "fruit_vowels"
   ]
  },
  {
   "cell_type": "code",
   "execution_count": null,
   "id": "770d7378",
   "metadata": {},
   "outputs": [],
   "source": [
    "# 4. LONGEST STRING VALUE"
   ]
  },
  {
   "cell_type": "code",
   "execution_count": 384,
   "id": "1a517624",
   "metadata": {},
   "outputs": [
    {
     "data": {
      "text/plain": [
       "2           strawberry\n",
       "3            pineapple\n",
       "4           gala apple\n",
       "5     honeycrisp apple\n",
       "6               tomato\n",
       "7           watermelon\n",
       "8             honeydew\n",
       "13           blueberry\n",
       "14          blackberry\n",
       "15          gooseberry\n",
       "16              papaya\n",
       "dtype: object"
      ]
     },
     "execution_count": 384,
     "metadata": {},
     "output_type": "execute_result"
    }
   ],
   "source": [
    "# 4. Write the code to get the string values with 5 or more letters in the name.\n",
    "\n",
    "#fruits.str.len()[fruits.str.len()>=5]\n",
    "\n",
    "#def greater_than_5(n):\n",
    "#    '''\n",
    "#        This function\n",
    "#    '''\n",
    "#    if len(n) >= 5:\n",
    "#        return '>=5'\n",
    "#    else: \n",
    "#        return 'odd'\n",
    "    \n",
    "#fruits.apply(greater_than_5)\n",
    "#fruits.apply(lamda n: 'q4' if n>= 5 else 'q1-q3')\n",
    "\n",
    "fruits[fruits.str.len() > 5]"
   ]
  },
  {
   "cell_type": "code",
   "execution_count": 337,
   "id": "4ee0b0d3",
   "metadata": {},
   "outputs": [
    {
     "data": {
      "text/plain": [
       "6         tomato\n",
       "15    gooseberry\n",
       "dtype: object"
      ]
     },
     "execution_count": 337,
     "metadata": {},
     "output_type": "execute_result"
    }
   ],
   "source": [
    "# Find the fruit(s) containing the letter \"o\" two or more times.\n",
    "#fruits.str.count('o').where(fruits.str.count() >= 2)\n",
    "fruits[fruits.str.count('o')>=2]"
   ]
  },
  {
   "cell_type": "code",
   "execution_count": 339,
   "id": "dba5f015",
   "metadata": {},
   "outputs": [
    {
     "data": {
      "text/plain": [
       "2     strawberry\n",
       "13     blueberry\n",
       "14    blackberry\n",
       "15    gooseberry\n",
       "dtype: object"
      ]
     },
     "execution_count": 339,
     "metadata": {},
     "output_type": "execute_result"
    }
   ],
   "source": [
    "# Write the code to get only the string values containing the substring \"berry\".\n",
    "#fruits.str[fruits.contains(\"berry\")]\n",
    "#result = fruits.str.contains(pat = 'berry')\n",
    "\n",
    "fruits[fruits.str.contains(pat = 'berry')]\n",
    "\n",
    "#print(result)"
   ]
  },
  {
   "cell_type": "code",
   "execution_count": 341,
   "id": "4120e683",
   "metadata": {},
   "outputs": [
    {
     "data": {
      "text/plain": [
       "3           pineapple\n",
       "4          gala apple\n",
       "5    honeycrisp apple\n",
       "dtype: object"
      ]
     },
     "execution_count": 341,
     "metadata": {},
     "output_type": "execute_result"
    }
   ],
   "source": [
    "# Write the code to get only the string values containing the substring \"apple\".\n",
    "#fruits.str[fruits.contains(\"apple\")]\n",
    "\n",
    "fruits[fruits.str.contains(pat = 'apple')]"
   ]
  },
  {
   "cell_type": "code",
   "execution_count": 342,
   "id": "3084cbe5",
   "metadata": {},
   "outputs": [
    {
     "data": {
      "text/plain": [
       "'honeycrisp apple'"
      ]
     },
     "execution_count": 342,
     "metadata": {},
     "output_type": "execute_result"
    }
   ],
   "source": [
    "# Which string value contains the most vowels?\n",
    "#print(fruits.str.count(r'[aeiou]')\n",
    "\n",
    "fruits[fruits.str.count(r'[aeiou]').max()]\n",
    "#print(\"\\n\")\n",
    "#print(fruits.str.count(r'[aeiou]').max())"
   ]
  },
  {
   "cell_type": "markdown",
   "id": "42fb7a1f",
   "metadata": {},
   "source": [
    "# 3. Exercises Part III\n",
    "Use pandas to create a Series named letters from the following string. The easiest way to make this string into a Pandas series is to use list to convert each individual letter into a single string on a basic Python list.\n",
    "\n",
    "`'hnvidduckkqxwymbimkccexbkmqygkxoyndmcxnwqarhyffsjpsrabtjzsypmzadfavyrnndndvswreauxovncxtwzpwejilzjrmmbbgbyxvjtewqthafnbkqplarokkyydtubbmnexoypulzwfhqvckdpqtpoppzqrmcvhhpwgjwupgzhiofohawytlsiyecuproguy'`"
   ]
  },
  {
   "cell_type": "code",
   "execution_count": 346,
   "id": "e798ae3d",
   "metadata": {},
   "outputs": [],
   "source": [
    "big_string = pd.Series(list('hnvidduckkqxwymbimkccexbkmqygkxoyndmcxnwqarhyffsjpsrabtjzsypmzadfavyrnndndvswreauxovncxtwzpwejilzjrmmbbgbyxvjtewqthafnbkqplarokkyydtubbmnexoypulzwfhqvckdpqtpoppzqrmcvhhpwgjwupgzhiofohawytlsiyecuproguy'))"
   ]
  },
  {
   "cell_type": "code",
   "execution_count": 388,
   "id": "7ef938c9",
   "metadata": {},
   "outputs": [
    {
     "data": {
      "text/plain": [
       "y    13\n",
       "dtype: int64"
      ]
     },
     "execution_count": 388,
     "metadata": {},
     "output_type": "execute_result"
    }
   ],
   "source": [
    "# Which letter occurs the most frequently in the letters Series?\n",
    "#big_string[big_string.str.count.max()]\n",
    "#big_string.describe()\n",
    "#.value_counts().head(1)\n",
    "#big_string[big_string.value_counts().mode()]\n",
    "big_string.value_counts().nlargest(1)\n"
   ]
  },
  {
   "cell_type": "code",
   "execution_count": 392,
   "id": "e5f2a981",
   "metadata": {},
   "outputs": [
    {
     "data": {
      "text/plain": [
       "l    4\n",
       "dtype: int64"
      ]
     },
     "execution_count": 392,
     "metadata": {},
     "output_type": "execute_result"
    }
   ],
   "source": [
    "# Which letter occurs the Least frequently?\n",
    "big_string.value_counts().tail(1)\n",
    "#letters.value_counts().sort_values().head(1)"
   ]
  },
  {
   "cell_type": "code",
   "execution_count": 399,
   "id": "75da5463",
   "metadata": {},
   "outputs": [
    {
     "data": {
      "text/plain": [
       "34"
      ]
     },
     "execution_count": 399,
     "metadata": {},
     "output_type": "execute_result"
    }
   ],
   "source": [
    "# How many vowels are in the Series?\n",
    "#big_string.str.lower().str.count('[aeiou]').sum()\n",
    "\n",
    "big_string.isin(list('aeiou')).sum()"
   ]
  },
  {
   "cell_type": "code",
   "execution_count": 408,
   "id": "41ac5a43",
   "metadata": {},
   "outputs": [
    {
     "data": {
      "text/plain": [
       "0      h\n",
       "1      n\n",
       "2      v\n",
       "4      d\n",
       "5      d\n",
       "      ..\n",
       "192    c\n",
       "194    p\n",
       "195    r\n",
       "197    g\n",
       "199    y\n",
       "Length: 166, dtype: object"
      ]
     },
     "execution_count": 408,
     "metadata": {},
     "output_type": "execute_result"
    }
   ],
   "source": [
    "# How many consonants are in the Series?\n",
    "big_string.size-big_string.isin(list('aeiou')).sum()\n",
    "\n",
    "#USING OPPOSITE SEARCH \n",
    "big_string[~big_string.isin(list('aeiou'))]"
   ]
  },
  {
   "cell_type": "code",
   "execution_count": 406,
   "id": "554da47d",
   "metadata": {},
   "outputs": [
    {
     "data": {
      "text/plain": [
       "0      H\n",
       "1      N\n",
       "2      V\n",
       "3      I\n",
       "4      D\n",
       "      ..\n",
       "195    R\n",
       "196    O\n",
       "197    G\n",
       "198    U\n",
       "199    Y\n",
       "Length: 200, dtype: object"
      ]
     },
     "execution_count": 406,
     "metadata": {},
     "output_type": "execute_result"
    }
   ],
   "source": [
    "# Create a Series that has all of the same letters but uppercased.\n",
    "big_string.str.upper()"
   ]
  },
  {
   "cell_type": "code",
   "execution_count": 411,
   "id": "1f74dbb6",
   "metadata": {},
   "outputs": [
    {
     "ename": "SyntaxError",
     "evalue": "invalid syntax (3840708252.py, line 2)",
     "output_type": "error",
     "traceback": [
      "\u001b[0;36m  Input \u001b[0;32mIn [411]\u001b[0;36m\u001b[0m\n\u001b[0;31m    big_string.value_count()head(6).plot.bar(title=\"letters\",rot=0,color='red',ec='green',width=.7) .set(xlabel='Letter',ylabel='Frequency',yticks=(range(1,16,1)))\u001b[0m\n\u001b[0m                            ^\u001b[0m\n\u001b[0;31mSyntaxError\u001b[0m\u001b[0;31m:\u001b[0m invalid syntax\n"
     ]
    }
   ],
   "source": [
    "# Create a bar plot of the frequencies of the 6 most commonly occuring letters.\n",
    "\n",
    "# big_string.value_count().head(6).plot.bar(title=\"letters\",rot=0,color='red',ec='green',width=.7) .set(xlabel='Letter',yl\n",
    "\n",
    "#big_string.value_count()\n",
    "                                                                                                     "
   ]
  },
  {
   "cell_type": "code",
   "execution_count": null,
   "id": "f00a8e0b",
   "metadata": {},
   "outputs": [],
   "source": [
    "# Use pandas to create a Series named numbers from the following list:\n",
    "# ['$796,459.41', '$278.60', '$482,571.67', '$4,503,915.98', '$2,121,418.3', '$1,260,813.3', '$87,231.01', '$1,509,175.45', '$4,138,548.00', '$2,848,913.80', '$594,715.39', '$4,789,988.17', '$4,513,644.5', '$3,191,059.97', '$1,758,712.24', '$4,338,283.54', '$4,738,303.38', '$2,791,759.67', '$769,681.94', '$452,650.23']\n"
   ]
  },
  {
   "cell_type": "code",
   "execution_count": 413,
   "id": "be371a5e",
   "metadata": {},
   "outputs": [
    {
     "data": {
      "text/plain": [
       "dtype('O')"
      ]
     },
     "execution_count": 413,
     "metadata": {},
     "output_type": "execute_result"
    }
   ],
   "source": [
    "numbers_list = ['$796,459.41', '$278.60', '$482,571.67', '$4,503,915.98', '$2,121,418.3', '$1,260,813.3', '$87,231.01', '$1,509,175.45', '$4,138,548.00', '$2,848,913.80', '$594,715.39', '$4,789,988.17', '$4,513,644.5', '$3,191,059.97', '$1,758,712.24', '$4,338,283.54', '$4,738,303.38', '$2,791,759.67', '$769,681.94', '$452,650.23']\n",
    "numbers_list = pd.Series(numbers_list)\n",
    "type(numbers_list)\n",
    "numbers_list.dtype"
   ]
  },
  {
   "cell_type": "code",
   "execution_count": 415,
   "id": "fb49badd",
   "metadata": {},
   "outputs": [
    {
     "data": {
      "text/plain": [
       "dtype('O')"
      ]
     },
     "execution_count": 415,
     "metadata": {},
     "output_type": "execute_result"
    }
   ],
   "source": [
    "# What is the data type of the numbers Series?\n",
    "numbers_list.dtype"
   ]
  },
  {
   "cell_type": "code",
   "execution_count": null,
   "id": "9e42d482",
   "metadata": {},
   "outputs": [],
   "source": [
    "# How many elements are in the number Series?\n",
    "numbers_list.size"
   ]
  },
  {
   "cell_type": "code",
   "execution_count": 416,
   "id": "e0f6f7c6",
   "metadata": {},
   "outputs": [
    {
     "name": "stderr",
     "output_type": "stream",
     "text": [
      "/var/folders/_r/wftd7dk93nj_hbzpqfw4vnsr0000gn/T/ipykernel_81609/1618658699.py:3: FutureWarning: The default value of regex will change from True to False in a future version. In addition, single character regular expressions will *not* be treated as literal strings when regex=True.\n",
      "  numbers_list.str.replace('$','').str.replace(',','').astype('float')\n"
     ]
    },
    {
     "data": {
      "text/plain": [
       "0      796459.41\n",
       "1         278.60\n",
       "2      482571.67\n",
       "3     4503915.98\n",
       "4     2121418.30\n",
       "5     1260813.30\n",
       "6       87231.01\n",
       "7     1509175.45\n",
       "8     4138548.00\n",
       "9     2848913.80\n",
       "10     594715.39\n",
       "11    4789988.17\n",
       "12    4513644.50\n",
       "13    3191059.97\n",
       "14    1758712.24\n",
       "15    4338283.54\n",
       "16    4738303.38\n",
       "17    2791759.67\n",
       "18     769681.94\n",
       "19     452650.23\n",
       "dtype: float64"
      ]
     },
     "execution_count": 416,
     "metadata": {},
     "output_type": "execute_result"
    }
   ],
   "source": [
    "# Perform the necessary manipulations by accessing Series attributes and methods to convert the numbers Series to a numeric data type.\n",
    "\n",
    "numbers_list.str.replace('$','').str.replace(',','').astype('float')\n",
    "\n"
   ]
  },
  {
   "cell_type": "code",
   "execution_count": 421,
   "id": "f9f407f6",
   "metadata": {},
   "outputs": [
    {
     "name": "stderr",
     "output_type": "stream",
     "text": [
      "/var/folders/_r/wftd7dk93nj_hbzpqfw4vnsr0000gn/T/ipykernel_81609/3694698871.py:2: FutureWarning: The default value of regex will change from True to False in a future version. In addition, single character regular expressions will *not* be treated as literal strings when regex=True.\n",
      "  numbers_list2=numbers_list.str.replace('$','').str.replace(',','').astype('float')\n"
     ]
    },
    {
     "data": {
      "text/plain": [
       "4789988.17"
      ]
     },
     "execution_count": 421,
     "metadata": {},
     "output_type": "execute_result"
    }
   ],
   "source": [
    "# Run the code to discover the maximum value from the Series.\n",
    "numbers_list2=numbers_list.str.replace('$','').str.replace(',','').astype('float')\n",
    "numbers_list2.dtype\n",
    "\n",
    "numbers_list2.max()"
   ]
  },
  {
   "cell_type": "code",
   "execution_count": 422,
   "id": "2f588785",
   "metadata": {},
   "outputs": [
    {
     "data": {
      "text/plain": [
       "278.6"
      ]
     },
     "execution_count": 422,
     "metadata": {},
     "output_type": "execute_result"
    }
   ],
   "source": [
    "# Run the code to discover the minimum value from the Series.\n",
    "numbers_list2.min()"
   ]
  },
  {
   "cell_type": "code",
   "execution_count": null,
   "id": "99c5f633",
   "metadata": {},
   "outputs": [],
   "source": [
    "# What is the range of the values in the Series?\n",
    "numbers_list2.min()-max()"
   ]
  },
  {
   "cell_type": "code",
   "execution_count": 439,
   "id": "ec14012a",
   "metadata": {},
   "outputs": [
    {
     "data": {
      "text/plain": [
       "<pandas.plotting._core.PlotAccessor object at 0x14c524070>"
      ]
     },
     "execution_count": 439,
     "metadata": {},
     "output_type": "execute_result"
    }
   ],
   "source": [
    "# Bin the data into 4 equally sized intervals or bins and output how many values fall into each bin.\n",
    "pd.cut(numbers_list2,4)"
   ]
  },
  {
   "cell_type": "code",
   "execution_count": null,
   "id": "a3759b65",
   "metadata": {},
   "outputs": [],
   "source": [
    "# Plot the binned data in a meaningful way. Be sure to include a title and axis labels.\n",
    "plot_list=pd.cut(numbers_list2,4)\n",
    "(\n",
    "    plot_list.value(counts)\n",
    "    loc(['Bin1','Bin2', 'Bin3','Bin4']),\n",
    "    plot.bar(title='bin Count',\n",
    "            )\n",
    "\n",
    ")"
   ]
  },
  {
   "cell_type": "code",
   "execution_count": null,
   "id": "9e81fed2",
   "metadata": {},
   "outputs": [],
   "source": [
    "# Use pandas to create a Series named exam_scores from the following list:\n",
    "# [60, 86, 75, 62, 93, 71, 60, 83, 95, 78, 65, 72, 69, 81, 96, 80, 85, 92, 82, 78]\n"
   ]
  },
  {
   "cell_type": "code",
   "execution_count": 434,
   "id": "844b914a",
   "metadata": {},
   "outputs": [
    {
     "data": {
      "text/plain": [
       "dtype('int64')"
      ]
     },
     "execution_count": 434,
     "metadata": {},
     "output_type": "execute_result"
    }
   ],
   "source": [
    "exam_scores = [60, 86, 75, 62, 93, 71, 60, 83, 95, 78, 65, 72, 69, 81, 96, 80, 85, 92, 82, 78]\n",
    "exam_scores = pd.Series(exam_scores)\n",
    "#type(exam_scores)\n",
    "#exam_scores.dtype"
   ]
  },
  {
   "cell_type": "code",
   "execution_count": 435,
   "id": "e13e7d35",
   "metadata": {},
   "outputs": [
    {
     "data": {
      "text/plain": [
       "20"
      ]
     },
     "execution_count": 435,
     "metadata": {},
     "output_type": "execute_result"
    }
   ],
   "source": [
    "# How many elements are in the exam_scores Series?\n",
    "exam_scores.size"
   ]
  },
  {
   "cell_type": "code",
   "execution_count": 453,
   "id": "b9899b3f",
   "metadata": {},
   "outputs": [
    {
     "data": {
      "text/plain": [
       "(60, 96, 78.15, 79.0)"
      ]
     },
     "execution_count": 453,
     "metadata": {},
     "output_type": "execute_result"
    }
   ],
   "source": [
    "# Run the code to discover the minimum, the maximum, the mean, and the median scores for the exam_scores Series.\n",
    "(\n",
    "    exam_scores.min(),\n",
    "    exam_scores.max(),\n",
    "    exam_scores.mean(),\n",
    "    exam_scores.median()\n",
    ")"
   ]
  },
  {
   "cell_type": "code",
   "execution_count": null,
   "id": "fe8c5454",
   "metadata": {},
   "outputs": [],
   "source": [
    "# Plot the Series in a meaningful way and make sure your chart has a title and axis labels.\n",
    "\n",
    "#  P L O T\n",
    "exam_scores_cut=pd.cut(numbers_list2,4)\n",
    "#print(exam_scores_cut)\n",
    "exam_scores_cut.plot.hist(\n",
    "    title='').set(xlabel='',ylabel='')\n",
    "\n"
   ]
  },
  {
   "cell_type": "code",
   "execution_count": 456,
   "id": "bddb6aa9",
   "metadata": {},
   "outputs": [
    {
     "data": {
      "text/plain": [
       "4"
      ]
     },
     "execution_count": 456,
     "metadata": {},
     "output_type": "execute_result"
    }
   ],
   "source": [
    "# Write the code necessary to implement a curve for your exam_grades Series and save this as curved_grades. Add the necessary points to the highest grade to make it 100, and add the same number of points to every other score in the Series as well.\n",
    "(100-exam_scores.max())"
   ]
  },
  {
   "cell_type": "code",
   "execution_count": 458,
   "id": "e1647f4d",
   "metadata": {},
   "outputs": [
    {
     "data": {
      "text/plain": [
       "100"
      ]
     },
     "execution_count": 458,
     "metadata": {},
     "output_type": "execute_result"
    }
   ],
   "source": [
    "curved_grades = exam_scores+(100-exam_scores.max())\n",
    "curved_grades\n",
    "curved_grades.max()"
   ]
  },
  {
   "cell_type": "code",
   "execution_count": 467,
   "id": "628a5808",
   "metadata": {},
   "outputs": [],
   "source": [
    "# Use a method to convert each of the numeric values in the curved_grades Series into a categorical value of letter grades. For example, 86 should be a 'B' and 95 should be an 'A'. Save this as a Series named letter_grades.\n",
    "\n",
    "# Edges are inclusive\n",
    "\n",
    "bin_edges = [0,59,69,79,89,100]\n",
    "bin_labels = ['F','D','C','B','A']\n",
    "letter_grades = pd.cut(curved_grades, bins = bin_edges, labels=bin_labels)"
   ]
  },
  {
   "cell_type": "code",
   "execution_count": 468,
   "id": "d7c55ab8",
   "metadata": {},
   "outputs": [
    {
     "data": {
      "text/plain": [
       "[Text(0.5, 0, 'Letter Grade'), Text(0, 0.5, 'Frequency')]"
      ]
     },
     "execution_count": 468,
     "metadata": {},
     "output_type": "execute_result"
    },
    {
     "data": {
      "image/png": "[encoded data removed]",
      "text/plain": [
       "<Figure size 640x480 with 1 Axes>"
      ]
     },
     "metadata": {},
     "output_type": "display_data"
    }
   ],
   "source": [
    "# Plot your new categorical letter_grades Series in a meaninful way and include a title and axis labels.\n",
    "(\n",
    "    letter_grades.value_counts().sort_index(ascending=False).\n",
    "    plot.bar(title = 'Curved Letter').\n",
    "    set(xlabel='Letter Grade', ylabel='Frequency')\n",
    ")"
   ]
  }
 ],
 "metadata": {
  "kernelspec": {
   "display_name": "Python 3 (ipykernel)",
   "language": "python",
   "name": "python3"
  },
  "language_info": {
   "codemirror_mode": {
    "name": "ipython",
    "version": 3
   },
   "file_extension": ".py",
   "mimetype": "text/x-python",
   "name": "python",
   "nbconvert_exporter": "python",
   "pygments_lexer": "ipython3",
   "version": "3.9.13"
  }
 },
 "nbformat": 4,
 "nbformat_minor": 5
}
