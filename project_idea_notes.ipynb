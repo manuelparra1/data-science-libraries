{
 "cells": [
  {
   "cell_type": "markdown",
   "id": "ecbc7284",
   "metadata": {},
   "source": [
    "# Word Clouds"
   ]
  },
  {
   "cell_type": "markdown",
   "id": "dbe4e980",
   "metadata": {},
   "source": []
  },
  {
   "cell_type": "markdown",
   "id": "adc3bc67",
   "metadata": {},
   "source": [
    "### Met Art Project\n",
    "comparing proportionality\n",
    "dealing with categorial variables\n",
    "weighed out how much it contributed to a work\n",
    "super-imposed to each other\n",
    "positive weights\n",
    "to create model\n",
    "using features\n",
    "decision tree classifiers\n",
    "optimize predictive results against actual results\n",
    "\n",
    "receiver operating characteristics\n",
    "greater area under the curve the better\n",
    "\n",
    "extreme gradient boosted binary logistic regression classifier\n",
    "recursively"
   ]
  },
  {
   "cell_type": "markdown",
   "id": "5952c825",
   "metadata": {},
   "source": [
    "Presentation Speaking Notes:  \n",
    "Tone of continuing story of speaker before you.\n",
    "\n",
    "Tone of building up a story.  Calling back former speaker's point.\n",
    "\n",
    "\n",
    "Closing Ideas:\n",
    "And with that...I'll conclude my section and pass along to my \"collegue\"..."
   ]
  },
  {
   "cell_type": "markdown",
   "id": "f013195d",
   "metadata": {},
   "source": [
    "### YouTube Project\n",
    "\n",
    "Stake Holders\n",
    "\n",
    "Machine Learning Classification Techniques\n",
    "\n",
    "Project Management Software\n",
    "\n",
    "Tools\n",
    "---\n",
    "API\n",
    "CHRON\n",
    "\n",
    "Features Created\n",
    "Top 25\n",
    "Engagement\n",
    "Age"
   ]
  },
  {
   "cell_type": "markdown",
   "id": "cd9cb6c6",
   "metadata": {},
   "source": [
    "XGradientBoosting"
   ]
  },
  {
   "cell_type": "markdown",
   "id": "601ab816",
   "metadata": {},
   "source": [
    "Does a feature account for a specific variable.\n",
    "\n"
   ]
  },
  {
   "cell_type": "markdown",
   "id": "d2f6e7ed",
   "metadata": {},
   "source": [
    "'changing our Lense'\n",
    "\n",
    "'so the question that we're asking'\n",
    "\n",
    "'positive spin on'\n",
    "\n",
    "'stretch our legs on ... modeling'\n",
    "'looking at the embodiment'\n",
    "'EDA Process'\n",
    "'Exploratory Data Analysis'\n"
   ]
  },
  {
   "cell_type": "markdown",
   "id": "6734c79c",
   "metadata": {},
   "source": [
    "Data Size > 1000"
   ]
  },
  {
   "cell_type": "markdown",
   "id": "54304a59",
   "metadata": {},
   "source": [
    "Value\n",
    "---\n",
    "Appearance?\n",
    "Presentation Skills?"
   ]
  },
  {
   "cell_type": "markdown",
   "id": "0453202f",
   "metadata": {},
   "source": [
    "### Ideas for Project\n",
    "-- Who is the Audience?\n",
    "- Family\n",
    "- Stake Holders\n",
    "- Executives\n",
    "\n",
    "-- Motivation\n",
    "- Finance\n",
    "- Social Media\n",
    "- Risk Assessment\n",
    "- Marketing"
   ]
  }
 ],
 "metadata": {
  "kernelspec": {
   "display_name": "Python 3 (ipykernel)",
   "language": "python",
   "name": "python3"
  },
  "language_info": {
   "codemirror_mode": {
    "name": "ipython",
    "version": 3
   },
   "file_extension": ".py",
   "mimetype": "text/x-python",
   "name": "python",
   "nbconvert_exporter": "python",
   "pygments_lexer": "ipython3",
   "version": "3.9.13"
  }
 },
 "nbformat": 4,
 "nbformat_minor": 5
}
