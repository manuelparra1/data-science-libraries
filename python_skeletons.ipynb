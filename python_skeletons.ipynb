{
 "cells": [
  {
   "cell_type": "code",
   "execution_count": null,
   "id": "7716a164",
   "metadata": {},
   "outputs": [],
   "source": [
    "import numpy as np\n",
    "import seaborn as sns\n",
    "import scipy.stats as stats\n",
    "import pandas as pd\n",
    "import matplotlib.pyplot as plt\n",
    "from pydataset import data\n",
    "import env as env\n",
    "\n",
    "np.random.seed(123)\n",
    "\n",
    "import quantumrandom as qrandom\n",
    "from IPython.display import display, Latex"
   ]
  },
  {
   "cell_type": "code",
   "execution_count": null,
   "id": "47b4ef67",
   "metadata": {},
   "outputs": [],
   "source": [
    "pd.options.display.max_columns = None"
   ]
  },
  {
   "cell_type": "markdown",
   "id": "c51f602c",
   "metadata": {},
   "source": [
    "#### Left Align Markdown Tables"
   ]
  },
  {
   "cell_type": "code",
   "execution_count": 13,
   "id": "b5193e4d",
   "metadata": {},
   "outputs": [
    {
     "data": {
      "text/html": [
       "<style>\n",
       "table {float:left}\n",
       "</style>\n"
      ],
      "text/plain": [
       "<IPython.core.display.HTML object>"
      ]
     },
     "metadata": {},
     "output_type": "display_data"
    }
   ],
   "source": [
    "%%html\n",
    "<style>\n",
    "table {float:left}\n",
    "</style>"
   ]
  },
  {
   "cell_type": "markdown",
   "id": "95ace4ec",
   "metadata": {},
   "source": [
    "<hr style=\"border:2px solid gray\">"
   ]
  },
  {
   "cell_type": "markdown",
   "id": "f1e34ebb",
   "metadata": {},
   "source": [
    "\n",
    "1. Define a function named ``normalize_name``. It should accept a string and\n",
    "   return a valid python identifier, that is:\n",
    "\n",
    "    - anything that is not a valid python identifier should be removed\n",
    "    - leading and trailing whitespace should be removed\n",
    "    - everything should be lowercase\n",
    "    - spaces should be replaced with underscores\n",
    "    - for example:\n",
    "        - ``Name`` will become ``name``\n",
    "        - ``First Name  `` will become ``first_name``\n",
    "        - ``% Completed`` will become ``completed``\n",
    "\n",
    "    >>> normalize_name('Name')\n",
    "    'name'\n",
    "    >>> normalize_name('First Name  ')\n",
    "    'first_name'\n",
    "    >>> normalize_name('% Completed')\n",
    "    'completed'\n",
    "\n",
    "1. Write a function named ``cumsum`` that accepts a list of numbers and returns\n",
    "   a list that is the cumulative sum of the numbers in the list.\n",
    "\n",
    "    - ``cumsum([1, 1, 1])`` returns ``[1, 2, 3]``\n",
    "    - ``cumsum([1, 2, 3, 4])`` returns ``[1, 3, 6, 10]``\n",
    "\n",
    "    >>> cumsum([1, 1, 1])\n",
    "    [1, 2, 3]\n",
    "    >>> cumsum([1, 2, 3, 4])\n",
    "    [1, 3, 6, 10]"
   ]
  },
  {
   "cell_type": "code",
   "execution_count": null,
   "id": "84f8c0e6",
   "metadata": {},
   "outputs": [],
   "source": [
    "def normalize_name(word):\n",
    "    \"\"\"\n",
    "    Define a function named ``normalize_name``. It should accept a string and\n",
    "    return a valid python identifier\n",
    "    \"\"\"\n",
    "    special_char = \"/'!@#$%^&*()-+={|\\]}?><,.~`\"\n",
    "    word_list = []\n",
    "    for c in word:\n",
    "        if c not in special_char:\n",
    "            word_list.append(c)\n",
    "    word = ''.join(word_list)\n",
    "    return word.lower().strip().replace(\" \",\"_\")\n",
    "\n",
    "def cumsum(num_list):\n",
    "    \"\"\"\n",
    "    Write a function named ``cumsum`` that accepts a list of numbers and returns\n",
    "    a list that is the cumulative sum of the numbers in the list.\n",
    "    \"\"\"\n",
    "    total = 0\n",
    "    cum_list = []\n",
    "    for n in num_list:\n",
    "        total += n\n",
    "        cum_list.append(total)\n",
    "    return cum_list"
   ]
  },
  {
   "cell_type": "code",
   "execution_count": null,
   "id": "38ed062c",
   "metadata": {},
   "outputs": [],
   "source": [
    "def change_to_string(integer):\n",
    "    word = str(integer)\n",
    "    letter_list = []\n",
    "    for letter in word:\n",
    "        letter_list.append(letter)\n",
    "        letter_list.append(\"-\")\n",
    "    word = \"\".join(letter_list)\n",
    "    return word"
   ]
  },
  {
   "cell_type": "code",
   "execution_count": null,
   "id": "6f5c3c8b",
   "metadata": {},
   "outputs": [],
   "source": [
    "change_to_string(308)"
   ]
  },
  {
   "cell_type": "code",
   "execution_count": null,
   "id": "a0f30e29",
   "metadata": {},
   "outputs": [],
   "source": [
    "sleepstudy[\"Subject\"] = sleepstudy[\"Subject\"].apply(change_to_string)"
   ]
  },
  {
   "cell_type": "code",
   "execution_count": null,
   "id": "9d2aac70",
   "metadata": {},
   "outputs": [],
   "source": [
    "sleepstudy.dtypes"
   ]
  },
  {
   "cell_type": "code",
   "execution_count": null,
   "id": "367d039f",
   "metadata": {},
   "outputs": [],
   "source": [
    "sleepstudy.head(1)"
   ]
  },
  {
   "cell_type": "code",
   "execution_count": null,
   "id": "c5177180",
   "metadata": {},
   "outputs": [],
   "source": [
    "help(foo.myfunc)"
   ]
  },
  {
   "cell_type": "markdown",
   "id": "5f7fb627",
   "metadata": {},
   "source": [
    "# S T A T I S T I C S\n",
    "#### Template"
   ]
  },
  {
   "cell_type": "markdown",
   "id": "05c9833d",
   "metadata": {},
   "source": [
    "1. Assumptions"
   ]
  },
  {
   "cell_type": "markdown",
   "id": "d36e0ac9",
   "metadata": {},
   "source": [
    "# Assumptions\n",
    "### Independent: Yes\n",
    "### Observation: Yes\n",
    "### Equal Variance Yes (Levene Test)"
   ]
  },
  {
   "cell_type": "markdown",
   "id": "39dfbdf9",
   "metadata": {},
   "source": [
    "## Categorical & Continuous Variable\n",
    "Categorical & Discrete"
   ]
  },
  {
   "cell_type": "markdown",
   "id": "a26dedea",
   "metadata": {},
   "source": [
    "Does tenure correlate with monthly charges\n",
    "1. Select Data\n",
    "2. Plot Data\n",
    "3. Normality (Distribution)\n",
    "4. State Our Hypothesis - Set Alpha Value\n",
    "5. Test\n",
    "6. Conclusion"
   ]
  },
  {
   "cell_type": "markdown",
   "id": "ecc60aa9",
   "metadata": {},
   "source": [
    "Hypothesis:\n",
    "\n",
    "H0: There is no linear correlation between tenure and monthly charges\n",
    "\n",
    "HA: There is a linear correlation between tenure and monthly charges"
   ]
  },
  {
   "cell_type": "markdown",
   "id": "17007db7",
   "metadata": {},
   "source": [
    "### _Mathematical_\n",
    "$H_{0}: \\mu_{a} == \\mu_{b} == \\mu_{c}$\n",
    "\n",
    "$H_{A}: \\mu_{a} \\not= \\mu_{b}  \\lor  \\mu_{b} \\not= \\mu_{c}  \\lor  \\mu_{a} \\not= \\mu_{c}$"
   ]
  },
  {
   "cell_type": "markdown",
   "id": "3e4f057e",
   "metadata": {},
   "source": [
    "# Parametric Tests"
   ]
  },
  {
   "cell_type": "markdown",
   "id": "35e8161d",
   "metadata": {},
   "source": [
    "### Parametric Tests\n",
    "\n",
    "|                 | Var 1                | Var 2                | |\n",
    "|-----------------| -------------------- | -------------------- |--\n",
    "| (A) t-test      | categorical/discrete | Continous            ||\n",
    "| (B) ANOVA       | categorical/discrete | Continous            ||\n",
    "| (C) Pearson's R | categorical/discrete | Continous            | (Normal Distribution)|"
   ]
  },
  {
   "cell_type": "markdown",
   "id": "b050fbd9",
   "metadata": {},
   "source": [
    "> ## _Non-Parametric Test if Assumptions Not Met_"
   ]
  },
  {
   "cell_type": "markdown",
   "id": "89ed76c8",
   "metadata": {},
   "source": [
    "# Non-Parametric Tests"
   ]
  },
  {
   "cell_type": "markdown",
   "id": "26f29d15",
   "metadata": {},
   "source": [
    "### Non-Parametric Tests\n",
    "<left>  \n",
    "    \n",
    "|                    | Var 1                | Var 2                |                                      |\n",
    "|:----------------   | -------------------: | -------------------: | -----------------------------------: |\n",
    "| (A) Man/Whitney    | categorical/discrete | Continous            | Mean == to vs. Mean !=               |\n",
    "| (B) Kruskal/Wallis | categorical/discrete | Continous            | Mean == to vs. Mean !=               |\n",
    "| (C) Spearman's     | Continous            | Continous            | No Linear vs. Yes Linear Correlation |\n",
    "| (Z) Chi Square     | categorical/discrete | categorical/discrete | Independent vs Dependent             |\n",
    "\n",
    "</left>"
   ]
  },
  {
   "cell_type": "code",
   "execution_count": 11,
   "id": "c3f3fead",
   "metadata": {},
   "outputs": [
    {
     "data": {
      "text/html": [
       "<style>\n",
       "table {float:left}\n",
       "</style>\n"
      ],
      "text/plain": [
       "<IPython.core.display.HTML object>"
      ]
     },
     "metadata": {},
     "output_type": "display_data"
    }
   ],
   "source": [
    "%%html\n",
    "<style>\n",
    "table {float:left}\n",
    "</style>"
   ]
  },
  {
   "cell_type": "markdown",
   "id": "ce7c48e3",
   "metadata": {},
   "source": [
    "| Item         | Price | # In stock |\n",
    "|--------------|:-----:|-----------:|\n",
    "| Juicy Apples |  1.99 |        739 |\n",
    "| Bananas      |  1.89 |          6 |"
   ]
  },
  {
   "cell_type": "code",
   "execution_count": null,
   "id": "07b8f41b",
   "metadata": {},
   "outputs": [],
   "source": [
    "data('sleepstudy', show_doc=True)"
   ]
  },
  {
   "cell_type": "markdown",
   "id": "3f0d3c20",
   "metadata": {},
   "source": [
    "<div align=\"left\">The de.</div>"
   ]
  },
  {
   "cell_type": "markdown",
   "id": "6ba615db",
   "metadata": {},
   "source": [
    "## Conclusion Example"
   ]
  },
  {
   "cell_type": "markdown",
   "id": "7ea83c21",
   "metadata": {},
   "source": [
    "**Takeaways**\n",
    "\n",
    "We can see by comparing the contingency tables that the observed values are very close to the expected values. We can confirm that, with the data available, there does not appear to be a significant relationship between type of transimission of type of drive. "
   ]
  },
  {
   "cell_type": "code",
   "execution_count": null,
   "id": "10a87f64",
   "metadata": {},
   "outputs": [],
   "source": []
  },
  {
   "cell_type": "code",
   "execution_count": null,
   "id": "1a42c1d8",
   "metadata": {},
   "outputs": [],
   "source": [
    "print('Is p-value < alpha?', p<alpha)"
   ]
  },
  {
   "cell_type": "markdown",
   "id": "96cb7384",
   "metadata": {},
   "source": [
    "# Markdown Organization Formatting"
   ]
  },
  {
   "cell_type": "markdown",
   "id": "e8196e93",
   "metadata": {},
   "source": [
    "<div class=\"alert alert-block alert-success\">\n",
    "    \n",
    "# Cheat Sheets"
   ]
  },
  {
   "cell_type": "markdown",
   "id": "a146ef82",
   "metadata": {},
   "source": [
    "<div class=\"alert alert-danger\">\n",
    "    \n",
    "# C O R R E L A T I O N\n",
    "    \n",
    "</div>"
   ]
  },
  {
   "cell_type": "markdown",
   "id": "16e33bfa",
   "metadata": {},
   "source": [
    "<hr style=\"border:2px solid gray\">"
   ]
  },
  {
   "cell_type": "markdown",
   "id": "e9d2502e",
   "metadata": {},
   "source": [
    "<div class=\"alert alert-block alert-info\">\n",
    "\n",
    "**Maggie's Version = Class Answer**\n",
    "    \n",
    "</div>"
   ]
  }
 ],
 "metadata": {
  "kernelspec": {
   "display_name": "Python 3 (ipykernel)",
   "language": "python",
   "name": "python3"
  },
  "language_info": {
   "codemirror_mode": {
    "name": "ipython",
    "version": 3
   },
   "file_extension": ".py",
   "mimetype": "text/x-python",
   "name": "python",
   "nbconvert_exporter": "python",
   "pygments_lexer": "ipython3",
   "version": "3.9.13"
  }
 },
 "nbformat": 4,
 "nbformat_minor": 5
}
