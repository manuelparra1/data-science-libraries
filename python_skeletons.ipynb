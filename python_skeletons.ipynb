{
 "cells": [
  {
   "cell_type": "code",
   "execution_count": null,
   "id": "cc6cc31b",
   "metadata": {},
   "outputs": [],
   "source": [
    "\n",
    "1. Define a function named ``normalize_name``. It should accept a string and\n",
    "   return a valid python identifier, that is:\n",
    "\n",
    "    - anything that is not a valid python identifier should be removed\n",
    "    - leading and trailing whitespace should be removed\n",
    "    - everything should be lowercase\n",
    "    - spaces should be replaced with underscores\n",
    "    - for example:\n",
    "        - ``Name`` will become ``name``\n",
    "        - ``First Name  `` will become ``first_name``\n",
    "        - ``% Completed`` will become ``completed``\n",
    "\n",
    "    >>> normalize_name('Name')\n",
    "    'name'\n",
    "    >>> normalize_name('First Name  ')\n",
    "    'first_name'\n",
    "    >>> normalize_name('% Completed')\n",
    "    'completed'\n",
    "\n",
    "1. Write a function named ``cumsum`` that accepts a list of numbers and returns\n",
    "   a list that is the cumulative sum of the numbers in the list.\n",
    "\n",
    "    - ``cumsum([1, 1, 1])`` returns ``[1, 2, 3]``\n",
    "    - ``cumsum([1, 2, 3, 4])`` returns ``[1, 3, 6, 10]``\n",
    "\n",
    "    >>> cumsum([1, 1, 1])\n",
    "    [1, 2, 3]\n",
    "    >>> cumsum([1, 2, 3, 4])\n",
    "    [1, 3, 6, 10]"
   ]
  },
  {
   "cell_type": "code",
   "execution_count": null,
   "id": "eccf9e69",
   "metadata": {},
   "outputs": [],
   "source": [
    "def normalize_name(word):\n",
    "    \"\"\"\n",
    "    Define a function named ``normalize_name``. It should accept a string and\n",
    "    return a valid python identifier\n",
    "    \"\"\"\n",
    "    special_char = \"/'!@#$%^&*()-+={|\\]}?><,.~`\"\n",
    "    word_list = []\n",
    "    for c in word:\n",
    "        if c not in special_char:\n",
    "            word_list.append(c)\n",
    "    word = ''.join(word_list)\n",
    "    return word.lower().strip().replace(\" \",\"_\")\n",
    "\n",
    "def cumsum(num_list):\n",
    "    \"\"\"\n",
    "    Write a function named ``cumsum`` that accepts a list of numbers and returns\n",
    "    a list that is the cumulative sum of the numbers in the list.\n",
    "    \"\"\"\n",
    "    total = 0\n",
    "    cum_list = []\n",
    "    for n in num_list:\n",
    "        total += n\n",
    "        cum_list.append(total)\n",
    "    return cum_list"
   ]
  },
  {
   "cell_type": "code",
   "execution_count": null,
   "id": "38ed062c",
   "metadata": {},
   "outputs": [],
   "source": [
    "def change_to_string(integer):\n",
    "    word = str(integer)\n",
    "    letter_list = []\n",
    "    for letter in word:\n",
    "        letter_list.append(letter)\n",
    "        letter_list.append(\"-\")\n",
    "    word = \"\".join(letter_list)\n",
    "    return word"
   ]
  },
  {
   "cell_type": "code",
   "execution_count": null,
   "id": "6f5c3c8b",
   "metadata": {},
   "outputs": [],
   "source": [
    "change_to_string(308)"
   ]
  },
  {
   "cell_type": "code",
   "execution_count": null,
   "id": "a0f30e29",
   "metadata": {},
   "outputs": [],
   "source": [
    "sleepstudy[\"Subject\"] = sleepstudy[\"Subject\"].apply(change_to_string)"
   ]
  },
  {
   "cell_type": "code",
   "execution_count": null,
   "id": "9d2aac70",
   "metadata": {},
   "outputs": [],
   "source": [
    "sleepstudy.dtypes"
   ]
  },
  {
   "cell_type": "code",
   "execution_count": null,
   "id": "367d039f",
   "metadata": {},
   "outputs": [],
   "source": [
    "sleepstudy.head(1)"
   ]
  }
 ],
 "metadata": {
  "kernelspec": {
   "display_name": "Python 3 (ipykernel)",
   "language": "python",
   "name": "python3"
  },
  "language_info": {
   "codemirror_mode": {
    "name": "ipython",
    "version": 3
   },
   "file_extension": ".py",
   "mimetype": "text/x-python",
   "name": "python",
   "nbconvert_exporter": "python",
   "pygments_lexer": "ipython3",
   "version": "3.9.13"
  }
 },
 "nbformat": 4,
 "nbformat_minor": 5
}
