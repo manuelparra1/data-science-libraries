{
 "cells": [
  {
   "cell_type": "markdown",
   "id": "e79be168",
   "metadata": {},
   "source": [
    "# S T A T I S T I C S\n",
    "#### Templates"
   ]
  },
  {
   "cell_type": "markdown",
   "id": "ff474045",
   "metadata": {},
   "source": [
    "1. Assumptions"
   ]
  },
  {
   "cell_type": "markdown",
   "id": "72cf1a40",
   "metadata": {},
   "source": [
    "# Assumptions\n",
    "### Independent: Yes\n",
    "### Observation: Yes\n",
    "### Equal Variance Yes (Levene Test)"
   ]
  },
  {
   "cell_type": "markdown",
   "id": "cceaf086",
   "metadata": {},
   "source": [
    "### _Mathematical_\n",
    "$H_{0}: \\mu_{a} == \\mu_{b} == \\mu_{c}$\n",
    "\n",
    "$H_{A}: \\mu_{a} != \\mu_{b} != \\mu_{c}$\n",
    "\n",
    "#a!=b b!=c a!=c"
   ]
  },
  {
   "cell_type": "markdown",
   "id": "60bd13c5",
   "metadata": {},
   "source": [
    "# Parametric Tests"
   ]
  },
  {
   "cell_type": "markdown",
   "id": "122e9e02",
   "metadata": {},
   "source": [
    "Parametric Tests\n",
    "\n",
    "|             | Var 1                | Var 2                |\n",
    "|-------------| -------------------- | -------------------- |\n",
    "| t-test      | categorical/discrete | Continous            |\n",
    "| ANOVA       | categorical/discrete | Continous            |\n",
    "| Pearson's R | categorical/discrete | Continous            | (Normal Distribution)"
   ]
  },
  {
   "cell_type": "markdown",
   "id": "091da6ac",
   "metadata": {},
   "source": [
    "> ## _Non-Parametric Test if Assumptions Not Met_"
   ]
  },
  {
   "cell_type": "markdown",
   "id": "a6311c80",
   "metadata": {},
   "source": [
    "# Non-Parametric Tests"
   ]
  },
  {
   "cell_type": "markdown",
   "id": "5290179f",
   "metadata": {},
   "source": [
    "Non-Parametric Tests\n",
    "\n",
    "|                | Var 1                | Var 2                |\n",
    "|-------------   | -------------------- | -------------------- |\n",
    "| Man/Whitney    | categorical/discrete | Continous            |\n",
    "| Kruskal/Wallis | categorical/discrete | Continous            |\n",
    "| Spearman's     | Continous            | Continous            |"
   ]
  },
  {
   "cell_type": "markdown",
   "id": "0108cbbf",
   "metadata": {},
   "source": [
    "<div class=\"alert alert-block alert-info\">\n",
    "\n",
    "**Cheatsheet** Maggie's Hypothesis Testing\n",
    "    \n",
    "</div>"
   ]
  },
  {
   "cell_type": "markdown",
   "id": "44663731",
   "metadata": {},
   "source": [
    "# Question\n",
    "\n",
    "1. State Our Hypothesis - Set Alpha Value\n",
    "2. Select Data, run a .info()\n",
    "3. Plot Data\n",
    "4. Assumptions\n",
    "    a. Normality (Distribution)(Hist)\n",
    "5. Test\n",
    "6. Conclusion\n",
    "\n",
    "---\n",
    "\n",
    "1. Hypothesis:\n",
    "    Really High R and no significant T\n",
    "        2 Data Points make a perfect Line\n",
    "            R is really high (correlation)\n",
    "            P is (how strong the confidence in result)\n",
    "\n",
    "    H0: There is no linear correlation between tenure and total charges\n",
    "\n",
    "    HA: There is a linear correlation between tenure and total charges\n",
    "    ```python\n",
    "\n",
    "        H0: There is no linear correlation between < question >.\n",
    "        HA: There is a linear correlation between < question >.\n",
    "        \n",
    "        a=0.05\n",
    "        \n",
    "    ```\n",
    "2. Select Data\n",
    "    ```python\n",
    "        \n",
    "        code\n",
    "\n",
    "    ```\n",
    "3. Plot Data\n",
    "    ```python\n",
    "\n",
    "        sns.regplot(x='tenure')\n",
    "\n",
    "    ```\n",
    "4. Assumptions\n",
    "   a. Normality (Distribution)\n",
    "        ```python\n",
    "        \n",
    "            phone_df.tenure.hist()\n",
    "            plt.show()\n",
    "            \n",
    "            phone_df.monthly_charges.hist()\n",
    "            plt.show()\n",
    "            \n",
    "        ```\n",
    "        Because not normally distributed. Running Spearman Test.\n",
    "5. Test\n",
    "    ```python\n",
    "        # Test\n",
    "        r,p = stats.spearmanr(ttl_chargesdf.tenure, ttl_chargesdf.total_charges)\n",
    "    \n",
    "        # Verify\n",
    "        if p < alpha:\n",
    "            #print(\"Reject Null\")\n",
    "            display(Latex('Reject $H_{0}$'))\n",
    "        else:\n",
    "            #print(\"Fail to Reject Null\")\n",
    "            display(Latex('Fail to Reject $H_{0}$'))\n",
    "    ```\n",
    "6. Conclusion\n",
    "    > **Takeaway**\n",
    "    > There is a linear correlation between tenure and total charges\n",
    "    > With an r of .89 the correlation is strong\n",
    "    ```python\n",
    "        # **Takeaway**\n",
    "        # There is a linear correlation between tenure and total charges\n",
    "        # With an r of .89 the correlation is strong\n",
    "    ```"
   ]
  },
  {
   "cell_type": "markdown",
   "id": "5c41324b",
   "metadata": {},
   "source": [
    "<div class=\"alert alert-block alert-info\">\n",
    "\n",
    "# **Class Answer** \n",
    "### Tenure vs. Titles\n",
    "    \n",
    "</div>\n",
    "\n",
    "1. State Our Hypothesis - Set Alpha Value\n",
    "2. Select Data, run a .info()\n",
    "3. Plot Data\n",
    "4. Assumptions \n",
    "    a. Normality (Distribution)\n",
    "5. Test\n",
    "6. Conclusion\n",
    "\n",
    "\n",
    "# 1. Hypothesis\n",
    "\n",
    "$H_0$: There's no linear relationship between employee tenure and number of titles\n",
    "\n",
    "$H_a$: There's a linear relationship between employee tenure and number of titles"
   ]
  },
  {
   "cell_type": "markdown",
   "id": "68eb0422",
   "metadata": {},
   "source": [
    "<div class=\"alert alert-block alert-info\">\n",
    "\n",
    "# **Class Answer** \n",
    "### Tenure vs. Titles\n",
    "    \n",
    "</div>\n",
    "\n",
    "1. State Our Hypothesis - Set Alpha Value\n",
    "2. Select Data, run a .info()\n",
    "3. Plot Data\n",
    "4. Assumptions \n",
    "    a. Normality (Distribution)\n",
    "5. Test\n",
    "6. Conclusion\n",
    "\n",
    "\n",
    "# 1. Hypothesis\n",
    "\n",
    "$H_0$: There's no linear relationship between employee tenure and number of titles\n",
    "\n",
    "$H_a$: There's a linear relationship between employee tenure and number of titles"
   ]
  },
  {
   "cell_type": "code",
   "execution_count": null,
   "id": "e231fb4b",
   "metadata": {},
   "outputs": [],
   "source": [
    "data('sleepstudy', show_doc=True)"
   ]
  }
 ],
 "metadata": {
  "kernelspec": {
   "display_name": "Python 3 (ipykernel)",
   "language": "python",
   "name": "python3"
  },
  "language_info": {
   "codemirror_mode": {
    "name": "ipython",
    "version": 3
   },
   "file_extension": ".py",
   "mimetype": "text/x-python",
   "name": "python",
   "nbconvert_exporter": "python",
   "pygments_lexer": "ipython3",
   "version": "3.9.13"
  }
 },
 "nbformat": 4,
 "nbformat_minor": 5
}
